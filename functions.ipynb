{
  "cells": [
    {
      "cell_type": "code",
      "execution_count": 27,
      "metadata": {
        "id": "2Y6isa9nX4di"
      },
      "outputs": [],
      "source": [
        "'''\n",
        "Function to check number is Armstrong or not\n",
        "\n",
        "Armstrong if the sum of its own digits\n",
        "raised to the power number of digits\n",
        "gives the number itself.\n",
        "'''\n",
        "\n",
        "def checkArmstrong(number):\n",
        "  result = 0\n",
        "  temp = number\n",
        "  while temp > 0:\n",
        "    digit = temp % 10\n",
        "    result = result + (digit ** len(str(number)))\n",
        "    temp = temp // 10\n",
        "\n",
        "  if result == number:\n",
        "    return \"Armstrong\"\n",
        "  else:\n",
        "    return \"NOT Armstrong\""
      ]
    },
    {
      "cell_type": "code",
      "execution_count": 28,
      "metadata": {
        "id": "fzF55ZxydGqI"
      },
      "outputs": [],
      "source": [
        "'''\n",
        "Function to check number is Palindrome or not\n",
        "\n",
        "Palindrome number is one that\n",
        "remains the same when its digits are reversed.\n",
        "'''\n",
        "\n",
        "def checkPalindrome(number):\n",
        "  result = 0\n",
        "  temp = number\n",
        "  while temp > 0:\n",
        "    digit = temp % 10\n",
        "    result = result * 10 + digit\n",
        "    temp = temp // 10\n",
        "\n",
        "  if result == number:\n",
        "    return \"Palindrome\"\n",
        "  else:\n",
        "    return \"NOT Palindrome\""
      ]
    },
    {
      "cell_type": "code",
      "execution_count": 29,
      "metadata": {
        "id": "vT9vabPKdvxY"
      },
      "outputs": [],
      "source": [
        "'''\n",
        "Function to check number is Perfect or not\n",
        "\n",
        "Perfect number is a positive integer\n",
        "that is equal to the sum of its proper divisors\n",
        "(excluding itself)\n",
        "'''\n",
        "\n",
        "def checkPerfect(number):\n",
        "  sum_factors = 0\n",
        "  for i in range(1,number):\n",
        "    if number % i == 0:\n",
        "      sum_factors = sum_factors + i\n",
        "\n",
        "  if sum_factors == number:\n",
        "    return \"Perfect\"\n",
        "  else:\n",
        "    return \"NOT Perfect\""
      ]
    },
    {
      "cell_type": "code",
      "execution_count": 30,
      "metadata": {
        "id": "J8d6ws-CeIpj"
      },
      "outputs": [],
      "source": [
        "'''\n",
        "Function to check number is Prime or not\n",
        "\n",
        "Prime number is a positive integer greater than 1\n",
        "that has no positive integer divisors\n",
        "other than 1 and itself.\n",
        "'''\n",
        "\n",
        "def checkPrime(number):\n",
        "  flag = 0\n",
        "  for i in range(2,number):\n",
        "    if number % i == 0:\n",
        "      flag = 1\n",
        "      break\n",
        "\n",
        "  if flag == 0:\n",
        "    return \"Prime\"\n",
        "  else:\n",
        "    return \"NOT Prime\""
      ]
    },
    {
      "cell_type": "code",
      "execution_count": 31,
      "metadata": {
        "id": "IBAE1rYvY66D"
      },
      "outputs": [],
      "source": [
        "# Enter a four-digit number\n",
        "#number = int(input(\"Enter a number: \"))\n",
        "\n",
        "# 1634 1661 8128 1013\n",
        "\n",
        "num1 = 1634\n",
        "num2 = 1661\n",
        "num3 = 8128\n",
        "num4 = 1013"
      ]
    },
    {
      "cell_type": "code",
      "execution_count": 32,
      "metadata": {
        "id": "frBqnJVvZyh9"
      },
      "outputs": [
        {
          "name": "stdout",
          "output_type": "stream",
          "text": [
            "1634 is Armstrong\n",
            "1661 is Palindrome\n",
            "8128 is Perfect\n",
            "1013 is Prime\n"
          ]
        }
      ],
      "source": [
        "'''\n",
        "resultArmstrong = checkArmstrong(number)\n",
        "print(number,\"is\",resultArmstrong)\n",
        "\n",
        "resultPalindrome = checkPalindrome(number)\n",
        "print(number,\"is\",resultPalindrome)\n",
        "\n",
        "resultPerfect = checkPerfect(number)\n",
        "print(number,\"is\",resultPerfect)\n",
        "\n",
        "resultPrime = checkPrime(number)\n",
        "print(number,\"is\",resultPrime)\n",
        "'''\n",
        "resultArmstrong = checkArmstrong(num1)\n",
        "print(num1,\"is\",resultArmstrong)\n",
        "\n",
        "resultPalindrome = checkPalindrome(num2)\n",
        "print(num2,\"is\",resultPalindrome)\n",
        "\n",
        "resultPerfect = checkPerfect(num3)\n",
        "print(num3,\"is\",resultPerfect)\n",
        "\n",
        "resultPrime = checkPrime(num4)\n",
        "print(num4,\"is\",resultPrime)"
      ]
    },
    {
      "cell_type": "code",
      "execution_count": 33,
      "metadata": {
        "id": "hMyYQwJieXnH"
      },
      "outputs": [
        {
          "name": "stdout",
          "output_type": "stream",
          "text": [
            "Fibonacci numbers in the range from 3 to 20:\n",
            "3 5 8 13 "
          ]
        }
      ],
      "source": [
        "'''\n",
        "Print Fibonacci Series from range X to Y\n",
        "X = 1 Y = 20\n",
        "\n",
        "Fibonacci sequence is a series of numbers\n",
        "where each number is the sum of the two preceding ones.\n",
        "'''\n",
        "\n",
        "def generate_fibonacci(start, end):\n",
        "  a, b = 0, 1\n",
        "  while a < end:\n",
        "    if a >= start:\n",
        "      print(a, end=\" \")\n",
        "    a, b = b, a + b\n",
        "\n",
        "X = int(input(\"Enter the starting value : \"))\n",
        "Y = int(input(\"Enter the ending value : \"))\n",
        "\n",
        "print(f\"Fibonacci numbers in the range from {X} to {Y}:\")\n",
        "generate_fibonacci(X, Y)"
      ]
    },
    {
      "cell_type": "code",
      "execution_count": 34,
      "metadata": {
        "id": "KDHea2VDejKa"
      },
      "outputs": [
        {
          "name": "stdout",
          "output_type": "stream",
          "text": [
            "The factorial of 7 is 5040\n"
          ]
        }
      ],
      "source": [
        "'''\n",
        "Print Factorial of 7\n",
        "\n",
        "Factorial of a non-negative integer 'n' is\n",
        "the product of all positive integers\n",
        "less than or equal to 'n'.\n",
        "'''\n",
        "\n",
        "f_number = 7\n",
        "factorial = 1\n",
        "\n",
        "for i in range(1, f_number + 1):\n",
        "  factorial = factorial*i\n",
        "\n",
        "print(\"The factorial of\",f_number,\"is\",factorial)"
      ]
    }
  ],
  "metadata": {
    "colab": {
      "provenance": []
    },
    "kernelspec": {
      "display_name": "Python 3",
      "name": "python3"
    },
    "language_info": {
      "codemirror_mode": {
        "name": "ipython",
        "version": 3
      },
      "file_extension": ".py",
      "mimetype": "text/x-python",
      "name": "python",
      "nbconvert_exporter": "python",
      "pygments_lexer": "ipython3",
      "version": "3.9.5"
    }
  },
  "nbformat": 4,
  "nbformat_minor": 0
}
